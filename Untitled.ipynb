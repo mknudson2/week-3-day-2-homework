{
 "cells": [
  {
   "cell_type": "code",
   "execution_count": 2,
   "id": "87ef372d",
   "metadata": {},
   "outputs": [
    {
     "data": {
      "text/plain": [
       "<bound method Pokemon.display_pokemon_info of <__main__.Pokemon object at 0x7f7878f8e5f0>>"
      ]
     },
     "execution_count": 2,
     "metadata": {},
     "output_type": "execute_result"
    }
   ],
   "source": [
    "\"\"\"\n",
    "Exercise 1:\n",
    "Create a Method that prints an image of a random pokemon\n",
    "HINT: You may need another attribute as well to store your image url within.\n",
    "\"\"\"\n",
    "\n",
    "from random import randint\n",
    "from requests import get\n",
    "\n",
    "\n",
    "\n",
    "class Pokemon:\n",
    "    \n",
    "    def __init__(self, name):\n",
    "        self.name = str(randint(1, 898))\n",
    "        self.weight = None\n",
    "        self.types = []\n",
    "        self.abilities =[]\n",
    "        self.image = ' '\n",
    "    \n",
    "    def poke_api_call(self):\n",
    "        res = get(f'https://pokeapi.co/api/v2/pokemon/{self.name}')\n",
    "        if res.ok:\n",
    "            data = res.json()\n",
    "            self.name = data['name']\n",
    "            self.abilities = data['abilities']\n",
    "            self.weight = data['weight']\n",
    "            self.types = data['types']\n",
    "            self.image=data['sprites']['versions']['generation-v']['black-white']['animated']['front_shiny']\n",
    "            if not self.image:\n",
    "                self.image = data['sprites']['front_default']\n",
    "    \n",
    "    def poke_generator(self):\n",
    "        random_pokemon = [randint(1,898) for i in range(6)]\n",
    "    \n",
    "    def display_pokemon_info(self):\n",
    "        self.display_pokemon_image()\n",
    "        print(f'{self.name}')\n",
    "        \n",
    "    \n",
    "    def display_pokemon_image(self, width=150):\n",
    "        display(Image(self.image, width = width))\n",
    "    \n",
    "starter = Pokemon(random_pokemon)\n",
    "\n",
    "random_pokemon.display_pokemon_info"
   ]
  },
  {
   "cell_type": "code",
   "execution_count": null,
   "id": "b2e6d53c",
   "metadata": {},
   "outputs": [],
   "source": []
  }
 ],
 "metadata": {
  "kernelspec": {
   "display_name": "Python 3 (ipykernel)",
   "language": "python",
   "name": "python3"
  },
  "language_info": {
   "codemirror_mode": {
    "name": "ipython",
    "version": 3
   },
   "file_extension": ".py",
   "mimetype": "text/x-python",
   "name": "python",
   "nbconvert_exporter": "python",
   "pygments_lexer": "ipython3",
   "version": "3.10.9"
  }
 },
 "nbformat": 4,
 "nbformat_minor": 5
}
